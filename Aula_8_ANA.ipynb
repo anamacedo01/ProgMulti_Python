{
 "cells": [
  {
   "cell_type": "markdown",
   "metadata": {},
   "source": [
    "Ana Paula Macedo 816114287"
   ]
  },
  {
   "cell_type": "markdown",
   "metadata": {},
   "source": [
    "## Exercicio 8 "
   ]
  },
  {
   "cell_type": "markdown",
   "metadata": {},
   "source": [
    "1 Faça um Programa que peça o raio de um círculo, calcule e mostre sua área."
   ]
  },
  {
   "cell_type": "code",
   "execution_count": 2,
   "metadata": {},
   "outputs": [
    {
     "name": "stdout",
     "output_type": "stream",
     "text": [
      "Digite o raio do circulo8\n",
      "201.06192982974676\n"
     ]
    }
   ],
   "source": [
    "import math\n",
    "\n",
    "raio = float (input ('Digite o raio do circulo'))\n",
    "area = math.pi * raio**2\n",
    "print(area)"
   ]
  },
  {
   "cell_type": "markdown",
   "metadata": {},
   "source": [
    "2 Faça um Programa que calcule a área de um quadrado, em seguida mostre o dobro desta área para o usuário"
   ]
  },
  {
   "cell_type": "code",
   "execution_count": 3,
   "metadata": {},
   "outputs": [
    {
     "name": "stdout",
     "output_type": "stream",
     "text": [
      "Digite a base do quadrado4\n",
      "Digite a altura do quadrado8\n",
      "64.0\n"
     ]
    }
   ],
   "source": [
    "base = float (input ('Digite a base do quadrado'))\n",
    "altura = float (input('Digite a altura do quadrado'))\n",
    "areaq = (base * altura)\n",
    "print (areaq*2)"
   ]
  },
  {
   "cell_type": "markdown",
   "metadata": {},
   "source": [
    "3 Faça um Programa que pergunte quanto você ganha por hora e o número de horas trabalhadas no mês. Calcule e mostre o total do seu salário no referido mês."
   ]
  },
  {
   "cell_type": "code",
   "execution_count": 5,
   "metadata": {},
   "outputs": [
    {
     "name": "stdout",
     "output_type": "stream",
     "text": [
      "Quanto ganha por hora?100\n",
      "Quantas horas trabalha no mês?140\n",
      "Você ganha no mês R$ 14000.0 reais\n"
     ]
    }
   ],
   "source": [
    "horas= float(input('Quanto ganha por hora?')) \n",
    "preco = float(input('Quantas horas trabalha no mês?' ))\n",
    "salario = (horas * preco)\n",
    "print (f'Você ganha no mês R$ {salario} reais')"
   ]
  },
  {
   "cell_type": "markdown",
   "metadata": {},
   "source": [
    "4 Faça um Programa que peça a temperatura em graus Farenheit, transforme e mostre a temperatura em graus Celsius. C = (5 * (F-32) / 9).\n"
   ]
  },
  {
   "cell_type": "code",
   "execution_count": 6,
   "metadata": {},
   "outputs": [
    {
     "name": "stdout",
     "output_type": "stream",
     "text": [
      "A temperatura é de 30.56 graus Celsius.\n"
     ]
    }
   ],
   "source": [
    "f = 87\n",
    "c = (5*(f-32)/9)\n",
    "print (f'A temperatura é de {c:.2f} graus Celsius.')"
   ]
  },
  {
   "cell_type": "markdown",
   "metadata": {},
   "source": [
    "5 Faça um Programa que peça a temperatura em graus Celsius, transforme e mostre em graus Farenheit."
   ]
  },
  {
   "cell_type": "code",
   "execution_count": 8,
   "metadata": {},
   "outputs": [
    {
     "name": "stdout",
     "output_type": "stream",
     "text": [
      "Qual é a temperatura (Celcius)?20\n",
      "Quando a temperatura está 20.0 graus em Celcius, em Farenheit está 293.0 graus\n"
     ]
    }
   ],
   "source": [
    "temperatura = float(input('Qual é a temperatura (Celcius)?'))\n",
    "f = (temperatura +  273)\n",
    "print (f'Quando a temperatura está {temperatura} graus em Celcius, em Farenheit está {f} graus')"
   ]
  },
  {
   "cell_type": "markdown",
   "metadata": {},
   "source": [
    "6 Faça um Programa que peça 2 números inteiros e um número real. Calcule e mostre:\n",
    "\n",
    "o produto do dobro do primeiro com metade do segundo .\n",
    "a soma do triplo do primeiro com o terceiro.\n",
    "o terceiro elevado ao cubo."
   ]
  },
  {
   "cell_type": "code",
   "execution_count": 10,
   "metadata": {},
   "outputs": [
    {
     "name": "stdout",
     "output_type": "stream",
     "text": [
      "Digite um número inteiro 2\n",
      "Digite um numero real 3.7\n",
      "O produto do dobro do primeiro com metade do segundo:7.4\n",
      "A soma do triplo do primeiro com o terceiro(7.4):13.4\n",
      "O terceiro(7.4) elevado ao cubo: 405.22400000000005\n"
     ]
    }
   ],
   "source": [
    "n1 = int(input('Digite um número inteiro '))\n",
    "n2 = float(input('Digite um numero real '))\n",
    "item1 =((n1*2)*(n2/2))\n",
    "print(f'O produto do dobro do primeiro com metade do segundo:{item1}')\n",
    "item2 = ((n1*3)+(item1))\n",
    "print (f'A soma do triplo do primeiro com o terceiro({item1}):{item2}')\n",
    "item3 = (item1**3)\n",
    "print (f'O terceiro({item1}) elevado ao cubo: {item3}')"
   ]
  },
  {
   "cell_type": "markdown",
   "metadata": {},
   "source": [
    "7 João Papo-de-Pescador, homem de bem, comprou um microcomputador para controlar o rendimento diário de seu trabalho. Toda vez que ele traz um peso de peixes maior que o estabelecido pelo regulamento de pesca do estado de São Paulo (50 quilos) deve pagar uma multa de R$ 4,00 por quilo excedente. João precisa que você faça um programa que leia a variável peso (peso de peixes) e verifique se há excesso. Se houver, gravar na variável excesso e na variável multa o valor da multa que João deverá pagar. Caso contrário mostrar tais variáveis com o conteúdo ZERO."
   ]
  },
  {
   "cell_type": "code",
   "execution_count": 11,
   "metadata": {},
   "outputs": [
    {
     "name": "stdout",
     "output_type": "stream",
     "text": [
      "Quanto kilos de peixe? 2\n",
      "Passou -48.0 kilos\n",
      "Sua multa é de r$ -192.0\n"
     ]
    }
   ],
   "source": [
    "kilo = float(input('Quanto kilos de peixe? '))\n",
    "peso = kilo - 50.00\n",
    "print (f'Passou {peso} kilos')\n",
    "multa = (peso * 4.00)\n",
    "print (f'Sua multa é de r$ {multa}')\n"
   ]
  },
  {
   "cell_type": "markdown",
   "metadata": {},
   "source": [
    "\n",
    "8 Faça um Programa que pergunte quanto você ganha por hora e o número de horas trabalhadas no mês. Calcule e mostre o total do seu salário no referido mês, sabendo-se que são descontados 11% para o Imposto de Renda, 8% para o INSS e 5% para o sindicato, faça um programa que nos dê:\n",
    "\n",
    "salário bruto.\n",
    "quanto pagou ao INSS.\n",
    "quanto pagou ao sindicato.\n",
    "o salário líquido.\n",
    "calcule os descontos e o salário líquido, conforme a tabela abaixo:\n",
    "Salário Bruto : R$\n",
    "IR (11%) : R$\n",
    "INSS (8%) : R$\n",
    "Sindicato ( 5%) : R$ = Salário Liquido : R$ Obs.: Salário Bruto - Descontos = Salário Líquido."
   ]
  },
  {
   "cell_type": "code",
   "execution_count": 12,
   "metadata": {},
   "outputs": [
    {
     "name": "stdout",
     "output_type": "stream",
     "text": [
      "Quanto ganha por hora?30\n",
      "Quantas horas trabalha no mês?140\n",
      "Seu salário bruto é 4200.0 reais\n",
      "Você pagou ao imposto de renda 462.0 reais\n",
      "Você pagou ao INSS 336.0 reais\n",
      "Você pagou ao sindicato 210.0 reais\n",
      "Salario liquido = 3192.0\n"
     ]
    }
   ],
   "source": [
    "horas= float(input('Quanto ganha por hora?')) \n",
    "preco = float(input('Quantas horas trabalha no mês?' ))\n",
    "salario = (horas * preco)\n",
    "print (f'Seu salário bruto é {salario} reais')\n",
    "renda = 0.11\n",
    "print (f'Você pagou ao imposto de renda {salario*renda} reais')\n",
    "inss = 0.08\n",
    "print (f'Você pagou ao INSS {salario*inss} reais')\n",
    "sind = 0.05\n",
    "print (f'Você pagou ao sindicato {salario*sind} reais')\n",
    "liq = ( 1-(renda+inss+sind) )\n",
    "print (f'Salario liquido = {salario*liq}')"
   ]
  },
  {
   "cell_type": "markdown",
   "metadata": {},
   "source": [
    "10 Faça um programa que permita ao usuário digitar o seu nome e em seguida mostre o nome do usuário de trás para frente utilizando somente letras maiúsculas. Dica: lembre−se que ao informar o nome o usuário pode digitar letras maiúsculas ou minúsculas. Observação: não use loops."
   ]
  },
  {
   "cell_type": "code",
   "execution_count": 14,
   "metadata": {},
   "outputs": [
    {
     "name": "stdout",
     "output_type": "stream",
     "text": [
      "Digite o seu nome: ANA Paula\n"
     ]
    },
    {
     "data": {
      "text/plain": [
       "'ALUAP ANA'"
      ]
     },
     "execution_count": 14,
     "metadata": {},
     "output_type": "execute_result"
    }
   ],
   "source": [
    "nome = input('Digite o seu nome: ')\n",
    "\n",
    "nome [::-1].upper()"
   ]
  },
  {
   "cell_type": "markdown",
   "metadata": {},
   "source": [
    "11 Faça um programa que solicite a data de nascimento (dd/mm/aaaa) do usuário e imprima a data com o nome do mês por extenso. Data de Nascimento: 29/10/1973 Você nasceu em 29 de Outubro de 1973. Obs.: Não use desvio condicional nem loops."
   ]
  },
  {
   "cell_type": "code",
   "execution_count": 15,
   "metadata": {},
   "outputs": [
    {
     "name": "stdout",
     "output_type": "stream",
     "text": [
      "Digite o dia do seu anversário (dd/mm/aaaa) 31/10/1992\n",
      "Você nasceu 31 de Outubro de 1992 .\n"
     ]
    }
   ],
   "source": [
    "extenso = {1:'Janeiro', 2: 'Fevereiro', 3:'Março', 4:\"Abril\", 5:'Maio', 6:'Junho', \n",
    "           7:'Ferias,', 8: 'Agosto', 9:'Setembro', 10:'Outubro', 11:'Novembro', 12:'Dezembro'}\n",
    "\n",
    "nasc = input('Digite o dia do seu anversário (dd/mm/aaaa) ')\n",
    "d, m, a = nasc.split('/')\n",
    "print ('Você nasceu %s de %s de %s .' % (d, extenso[int (m)], a))"
   ]
  },
  {
   "cell_type": "markdown",
   "metadata": {},
   "source": [
    "12 Leet é uma forma de se escrever o alfabeto latino usando outros símbolos em lugar das letras, como números por exemplo. A própria palavra leet admite muitas variações, como l33t ou 1337. O uso do leet reflete uma subcultura relacionada ao mundo dos jogos de computador e internet, sendo muito usada para confundir os iniciantes e afirmar-se como parte de um grupo. Pesquise sobre as principais formas de traduzir as letras. Depois, faça um programa que peça uma texto e transforme-o para a grafia leet speak. Desafio: não use loops nem desvios condicionais."
   ]
  },
  {
   "cell_type": "code",
   "execution_count": 17,
   "metadata": {},
   "outputs": [
    {
     "ename": "SyntaxError",
     "evalue": "invalid syntax (<ipython-input-17-ee254a9bdd1a>, line 1)",
     "output_type": "error",
     "traceback": [
      "\u001b[1;36m  File \u001b[1;32m\"<ipython-input-17-ee254a9bdd1a>\"\u001b[1;36m, line \u001b[1;32m1\u001b[0m\n\u001b[1;33m    alf_leet = [A:'4', b:'8', e:'3', g:'6']\u001b[0m\n\u001b[1;37m                 ^\u001b[0m\n\u001b[1;31mSyntaxError\u001b[0m\u001b[1;31m:\u001b[0m invalid syntax\n"
     ]
    }
   ],
   "source": [
    "alf_leet = [A:'4', b:'8', e:'3', g:'6']\n",
    "    x = input('Digite  duas letras (x,x) :')\n",
    "    x= x.split(',')\n",
    "print ('Você digitou %s na linha acima' %(alf_let))"
   ]
  },
  {
   "cell_type": "markdown",
   "metadata": {},
   "source": [
    "13 Crie um programa que recebe uma lista de números e\n",
    "\n",
    "retorne o maior elemento\n",
    "retorne a soma dos elementos\n",
    "retorne o número de ocorrências do primeiro elemento da lista\n",
    "retorne a média dos elementos\n",
    "retorne o valor mais próximo da média dos elementos\n",
    "retorne a soma dos elementos com valor negativo\n",
    "retorne a quantidade de vizinhos iguais"
   ]
  },
  {
   "cell_type": "code",
   "execution_count": 18,
   "metadata": {},
   "outputs": [
    {
     "name": "stdout",
     "output_type": "stream",
     "text": [
      "Maior = 10\n",
      "Soma = 44\n",
      "Ocorrências de 3 = 2\n",
      "Media da lista = 4.4\n",
      "Valor mais proximo da media é 4\n"
     ]
    }
   ],
   "source": [
    "import math\n",
    "lista = [3,2,3,4,5,1,7,4,5,10]\n",
    "print (f'Maior = {max(lista)}')\n",
    "print (f'Soma = {sum(lista)}')\n",
    "print (f'Ocorrências de {lista[0]} = {lista.count(lista[0])}')\n",
    "media = sum(lista)/len(lista)\n",
    "print (f'Media da lista = {media}')\n",
    "proximo = [math.isclose(l, media, rel_tol=1e-1, abs_tol=0.0) for l in lista]\n",
    "print (f'Valor mais proximo da media é {lista[proximo.index(True)]}')"
   ]
  },
  {
   "cell_type": "markdown",
   "metadata": {},
   "source": [
    "14 Faça um programa que receba duas listas e retorne True se são iguais ou False caso contrario. Duas listas são iguais se possuem os mesmos valores e na mesma ordem."
   ]
  },
  {
   "cell_type": "code",
   "execution_count": 19,
   "metadata": {},
   "outputs": [
    {
     "name": "stdout",
     "output_type": "stream",
     "text": [
      "Digite um numero para ocupar a posição 0 da lista a 2\n",
      "Digite um numero para ocupar a posição 1 da lista a 4\n",
      "Digite um numero para ocupar a posição 0 da lista b 6\n",
      "Digite um numero para ocupar a posição 1 da lista b 8\n",
      "['2', '4']\n",
      "['6', '8']\n",
      "As lista são iguais? False\n"
     ]
    }
   ],
   "source": [
    "listaa = [input('Digite um numero para ocupar a posição 0 da lista a ' ) ]\n",
    "listaa.append(input('Digite um numero para ocupar a posição 1 da lista a ') )\n",
    "listab = [input('Digite um numero para ocupar a posição 0 da lista b ' ) ]\n",
    "listab.append(input('Digite um numero para ocupar a posição 1 da lista b ') )\n",
    "print (listaa)\n",
    "print (listab)\n",
    "x = (listaa == listab)\n",
    "print (f'As lista são iguais? {x}')"
   ]
  },
  {
   "cell_type": "markdown",
   "metadata": {},
   "source": [
    "15 Faça um programa que receba duas listas e retorne True se têm os mesmos elementos ou False caso contrário Duas listas possuem os mesmos elementos quando são compostas pelos mesmos valores, mas não obrigatoriamente na mesma ordem."
   ]
  },
  {
   "cell_type": "code",
   "execution_count": 20,
   "metadata": {},
   "outputs": [
    {
     "name": "stdout",
     "output_type": "stream",
     "text": [
      "Digite numero para prencher a posição 0 na lista 12\n",
      "Digite  numero para prencher a posição 1 na lista 14\n",
      "Digite  numero para prencher a posição 0 na lista 22\n",
      "Digite  numero para prencher a posição 1 na lista 24\n",
      "A lista 1 é: ['2', '4']\n",
      "A lista 2 é: ['2', '4']\n",
      "True\n"
     ]
    }
   ],
   "source": [
    "list1 =[input('Digite numero para prencher a posição 0 na lista 1')]  \n",
    "list1.append(input('Digite  numero para prencher a posição 1 na lista 1')) \n",
    "list2 = [input('Digite  numero para prencher a posição 0 na lista 2')]\n",
    "list2.append(input('Digite  numero para prencher a posição 1 na lista 2')) \n",
    "print (f'A lista 1 é: {list1}')\n",
    "print (f'A lista 2 é: {list2}')\n",
    "x = (list1 == list2)\n",
    "print(x)\n"
   ]
  },
  {
   "cell_type": "markdown",
   "metadata": {},
   "source": [
    "16 Faça um programa que percorre uma lista com o seguinte formato: [['Brasil', 'Italia', [10, 9]], ['Brasil', 'Espanha', [5, 7]], ['Italia', 'Espanha', [7,8]]]. Essa lista indica o número de faltas que cada time fez em cada jogo. Na lista acima, no jogo entre Brasil e Itália, o Brasil fez 10 faltas e a Itália fez 9. O programa deve imprimir na tela:\n",
    "\n",
    "o total de faltas do campeonato\n",
    "o time que fez mais faltas\n",
    "o time que fez menos faltas"
   ]
  },
  {
   "cell_type": "code",
   "execution_count": null,
   "metadata": {},
   "outputs": [],
   "source": []
  },
  {
   "cell_type": "code",
   "execution_count": null,
   "metadata": {},
   "outputs": [],
   "source": []
  },
  {
   "cell_type": "code",
   "execution_count": null,
   "metadata": {},
   "outputs": [],
   "source": []
  },
  {
   "cell_type": "code",
   "execution_count": null,
   "metadata": {},
   "outputs": [],
   "source": []
  }
 ],
 "metadata": {
  "kernelspec": {
   "display_name": "Python 3",
   "language": "python",
   "name": "python3"
  },
  "language_info": {
   "codemirror_mode": {
    "name": "ipython",
    "version": 3
   },
   "file_extension": ".py",
   "mimetype": "text/x-python",
   "name": "python",
   "nbconvert_exporter": "python",
   "pygments_lexer": "ipython3",
   "version": "3.6.5"
  }
 },
 "nbformat": 4,
 "nbformat_minor": 2
}
